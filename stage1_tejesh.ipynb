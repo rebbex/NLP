{
 "cells": [
  {
   "cell_type": "code",
   "execution_count": 1,
   "metadata": {},
   "outputs": [
    {
     "name": "stdout",
     "output_type": "stream",
     "text": [
      "Intel MKL WARNING: Support of Intel(R) Streaming SIMD Extensions 4.2 (Intel(R) SSE4.2) enabled only processors has been deprecated. Intel oneAPI Math Kernel Library 2025.0 will require Intel(R) Advanced Vector Extensions (Intel(R) AVX) instructions.\n",
      "Intel MKL WARNING: Support of Intel(R) Streaming SIMD Extensions 4.2 (Intel(R) SSE4.2) enabled only processors has been deprecated. Intel oneAPI Math Kernel Library 2025.0 will require Intel(R) Advanced Vector Extensions (Intel(R) AVX) instructions.\n"
     ]
    }
   ],
   "source": [
    "#Loading Packages\n",
    "import pandas as pd\n",
    "import requests\n"
   ]
  },
  {
   "cell_type": "code",
   "execution_count": 2,
   "metadata": {},
   "outputs": [],
   "source": [
    "# Loading the data from csv file\n",
    "\n",
    "data = pd.read_csv(\"/Users/rebeccag/Desktop/CTA/CLT/NLP/cleantech_media_dataset_v1_20231109.csv\")"
   ]
  },
  {
   "cell_type": "code",
   "execution_count": 3,
   "metadata": {},
   "outputs": [
    {
     "data": {
      "text/html": [
       "<div>\n",
       "<style scoped>\n",
       "    .dataframe tbody tr th:only-of-type {\n",
       "        vertical-align: middle;\n",
       "    }\n",
       "\n",
       "    .dataframe tbody tr th {\n",
       "        vertical-align: top;\n",
       "    }\n",
       "\n",
       "    .dataframe thead th {\n",
       "        text-align: right;\n",
       "    }\n",
       "</style>\n",
       "<table border=\"1\" class=\"dataframe\">\n",
       "  <thead>\n",
       "    <tr style=\"text-align: right;\">\n",
       "      <th></th>\n",
       "      <th>Unnamed: 0</th>\n",
       "      <th>title</th>\n",
       "      <th>date</th>\n",
       "      <th>author</th>\n",
       "      <th>content</th>\n",
       "      <th>domain</th>\n",
       "      <th>url</th>\n",
       "    </tr>\n",
       "  </thead>\n",
       "  <tbody>\n",
       "    <tr>\n",
       "      <th>0</th>\n",
       "      <td>1280</td>\n",
       "      <td>Qatar to Slash Emissions as LNG Expansion Adva...</td>\n",
       "      <td>2021-01-13</td>\n",
       "      <td>NaN</td>\n",
       "      <td>[\"Qatar Petroleum ( QP) is targeting aggressiv...</td>\n",
       "      <td>energyintel</td>\n",
       "      <td>https://www.energyintel.com/0000017b-a7dc-de4c...</td>\n",
       "    </tr>\n",
       "    <tr>\n",
       "      <th>1</th>\n",
       "      <td>1281</td>\n",
       "      <td>India Launches Its First 700 MW PHWR</td>\n",
       "      <td>2021-01-15</td>\n",
       "      <td>NaN</td>\n",
       "      <td>[\"• Nuclear Power Corp. of India Ltd. ( NPCIL)...</td>\n",
       "      <td>energyintel</td>\n",
       "      <td>https://www.energyintel.com/0000017b-a7dc-de4c...</td>\n",
       "    </tr>\n",
       "    <tr>\n",
       "      <th>2</th>\n",
       "      <td>1283</td>\n",
       "      <td>New Chapter for US-China Energy Trade</td>\n",
       "      <td>2021-01-20</td>\n",
       "      <td>NaN</td>\n",
       "      <td>[\"New US President Joe Biden took office this ...</td>\n",
       "      <td>energyintel</td>\n",
       "      <td>https://www.energyintel.com/0000017b-a7dc-de4c...</td>\n",
       "    </tr>\n",
       "    <tr>\n",
       "      <th>3</th>\n",
       "      <td>1284</td>\n",
       "      <td>Japan: Slow Restarts Cast Doubt on 2030 Energy...</td>\n",
       "      <td>2021-01-22</td>\n",
       "      <td>NaN</td>\n",
       "      <td>[\"The slow pace of Japanese reactor restarts c...</td>\n",
       "      <td>energyintel</td>\n",
       "      <td>https://www.energyintel.com/0000017b-a7dc-de4c...</td>\n",
       "    </tr>\n",
       "    <tr>\n",
       "      <th>4</th>\n",
       "      <td>1285</td>\n",
       "      <td>NYC Pension Funds to Divest Fossil Fuel Shares</td>\n",
       "      <td>2021-01-25</td>\n",
       "      <td>NaN</td>\n",
       "      <td>[\"Two of New York City's largest pension funds...</td>\n",
       "      <td>energyintel</td>\n",
       "      <td>https://www.energyintel.com/0000017b-a7dc-de4c...</td>\n",
       "    </tr>\n",
       "  </tbody>\n",
       "</table>\n",
       "</div>"
      ],
      "text/plain": [
       "   Unnamed: 0                                              title        date  \\\n",
       "0        1280  Qatar to Slash Emissions as LNG Expansion Adva...  2021-01-13   \n",
       "1        1281               India Launches Its First 700 MW PHWR  2021-01-15   \n",
       "2        1283              New Chapter for US-China Energy Trade  2021-01-20   \n",
       "3        1284  Japan: Slow Restarts Cast Doubt on 2030 Energy...  2021-01-22   \n",
       "4        1285     NYC Pension Funds to Divest Fossil Fuel Shares  2021-01-25   \n",
       "\n",
       "  author                                            content       domain  \\\n",
       "0    NaN  [\"Qatar Petroleum ( QP) is targeting aggressiv...  energyintel   \n",
       "1    NaN  [\"• Nuclear Power Corp. of India Ltd. ( NPCIL)...  energyintel   \n",
       "2    NaN  [\"New US President Joe Biden took office this ...  energyintel   \n",
       "3    NaN  [\"The slow pace of Japanese reactor restarts c...  energyintel   \n",
       "4    NaN  [\"Two of New York City's largest pension funds...  energyintel   \n",
       "\n",
       "                                                 url  \n",
       "0  https://www.energyintel.com/0000017b-a7dc-de4c...  \n",
       "1  https://www.energyintel.com/0000017b-a7dc-de4c...  \n",
       "2  https://www.energyintel.com/0000017b-a7dc-de4c...  \n",
       "3  https://www.energyintel.com/0000017b-a7dc-de4c...  \n",
       "4  https://www.energyintel.com/0000017b-a7dc-de4c...  "
      ]
     },
     "execution_count": 3,
     "metadata": {},
     "output_type": "execute_result"
    }
   ],
   "source": [
    "data.head()"
   ]
  },
  {
   "cell_type": "code",
   "execution_count": 4,
   "metadata": {},
   "outputs": [
    {
     "name": "stdout",
     "output_type": "stream",
     "text": [
      "      Unnamed: 0                                              title  \\\n",
      "0           1280  Qatar to Slash Emissions as LNG Expansion Adva...   \n",
      "1           1281               India Launches Its First 700 MW PHWR   \n",
      "2           1283              New Chapter for US-China Energy Trade   \n",
      "3           1284  Japan: Slow Restarts Cast Doubt on 2030 Energy...   \n",
      "4           1285     NYC Pension Funds to Divest Fossil Fuel Shares   \n",
      "...          ...                                                ...   \n",
      "9602       82339  Strata Clean Energy Nets $ 300 Million in Fund...   \n",
      "9603       82340  Orsted Deploying SparkCognition Renewable Suit...   \n",
      "9604       82341     Veolia Has Plans for 5 MW of Solar in Arkansas   \n",
      "9605       82342                      SunEdison: Too Big, Too Fast?   \n",
      "9606       82343  Vikings Solar-Plus-Storage Development Nets Fi...   \n",
      "\n",
      "            date author                                            content  \\\n",
      "0     2021-01-13    NaN  [\"Qatar Petroleum ( QP) is targeting aggressiv...   \n",
      "1     2021-01-15    NaN  [\"• Nuclear Power Corp. of India Ltd. ( NPCIL)...   \n",
      "2     2021-01-20    NaN  [\"New US President Joe Biden took office this ...   \n",
      "3     2021-01-22    NaN  [\"The slow pace of Japanese reactor restarts c...   \n",
      "4     2021-01-25    NaN  [\"Two of New York City's largest pension funds...   \n",
      "...          ...    ...                                                ...   \n",
      "9602  2023-11-06    NaN  ['Strata Clean Energy has closed a $ 300 milli...   \n",
      "9603  2023-11-07    NaN  ['Global renewable energy developer Ørsted is ...   \n",
      "9604  2023-11-07    NaN  ['Veolia North America, a provider of environm...   \n",
      "9605  2023-11-08    NaN  ['Once the self-proclaimed “ leading renewable...   \n",
      "9606  2023-11-08    NaN  ['Arevon Energy Inc. has closed financing on t...   \n",
      "\n",
      "                domain                                                url  \n",
      "0          energyintel  https://www.energyintel.com/0000017b-a7dc-de4c...  \n",
      "1          energyintel  https://www.energyintel.com/0000017b-a7dc-de4c...  \n",
      "2          energyintel  https://www.energyintel.com/0000017b-a7dc-de4c...  \n",
      "3          energyintel  https://www.energyintel.com/0000017b-a7dc-de4c...  \n",
      "4          energyintel  https://www.energyintel.com/0000017b-a7dc-de4c...  \n",
      "...                ...                                                ...  \n",
      "9602  solarindustrymag  https://solarindustrymag.com/strata-clean-ener...  \n",
      "9603  solarindustrymag  https://solarindustrymag.com/orsted-deploying-...  \n",
      "9604  solarindustrymag  https://solarindustrymag.com/veolia-has-plans-...  \n",
      "9605  solarindustrymag  http://www.solarindustrymag.com/online/issues/...  \n",
      "9606  solarindustrymag  https://solarindustrymag.com/vikings-solar-plu...  \n",
      "\n",
      "[9607 rows x 7 columns]\n"
     ]
    }
   ],
   "source": [
    "print(data)"
   ]
  },
  {
   "cell_type": "code",
   "execution_count": null,
   "metadata": {},
   "outputs": [],
   "source": []
  },
  {
   "cell_type": "code",
   "execution_count": null,
   "metadata": {},
   "outputs": [],
   "source": []
  },
  {
   "cell_type": "code",
   "execution_count": null,
   "metadata": {},
   "outputs": [],
   "source": []
  }
 ],
 "metadata": {
  "kernelspec": {
   "display_name": "Python 3",
   "language": "python",
   "name": "python3"
  },
  "language_info": {
   "codemirror_mode": {
    "name": "ipython",
    "version": 3
   },
   "file_extension": ".py",
   "mimetype": "text/x-python",
   "name": "python",
   "nbconvert_exporter": "python",
   "pygments_lexer": "ipython3",
   "version": "3.10.13"
  }
 },
 "nbformat": 4,
 "nbformat_minor": 2
}
